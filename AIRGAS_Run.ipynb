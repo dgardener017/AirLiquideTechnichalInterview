{
  "nbformat": 4,
  "nbformat_minor": 0,
  "metadata": {
    "colab": {
      "name": "AIRGAS Run.ipynb",
      "provenance": []
    },
    "kernelspec": {
      "name": "python3",
      "display_name": "Python 3"
    },
    "language_info": {
      "name": "python"
    }
  },
  "cells": [
    {
      "cell_type": "code",
      "execution_count": 1,
      "metadata": {
        "id": "VOHnoZRtAtXB"
      },
      "outputs": [],
      "source": [
        "import pandas as pd\n",
        "import numpy as np\n",
        "import matplotlib.pyplot as plt\n",
        "import seaborn as sns\n",
        "import xgboost as xg \n",
        "from xgboost import plot_importance, plot_tree\n",
        "from sklearn.model_selection import train_test_split\n",
        "from sklearn.metrics import mean_squared_error, mean_absolute_error\n",
        "from sklearn import preprocessing"
      ]
    },
    {
      "cell_type": "code",
      "source": [
        "from google.colab import drive\n",
        "drive.mount('/content/drive', force_remount=True)"
      ],
      "metadata": {
        "colab": {
          "base_uri": "https://localhost:8080/"
        },
        "id": "9Ifa7TvOAyno",
        "outputId": "763a003c-0ae1-4b11-9032-106341656b0f"
      },
      "execution_count": 3,
      "outputs": [
        {
          "output_type": "stream",
          "name": "stdout",
          "text": [
            "Mounted at /content/drive\n"
          ]
        }
      ]
    },
    {
      "cell_type": "code",
      "source": [
        "df = pd.read_csv(\"drive/My Drive/AIRGAS/Superstore2.csv\")"
      ],
      "metadata": {
        "id": "xCvvUTwjA40i"
      },
      "execution_count": 4,
      "outputs": []
    },
    {
      "cell_type": "code",
      "source": [
        "df.columns = df.columns.str.replace(' ','_')"
      ],
      "metadata": {
        "id": "YP6VqEZtgfj6"
      },
      "execution_count": 5,
      "outputs": []
    },
    {
      "cell_type": "code",
      "source": [
        "df['Order_Date'] = pd.to_datetime(df['Order_Date'])"
      ],
      "metadata": {
        "id": "qquQyv5GgIsX"
      },
      "execution_count": 6,
      "outputs": []
    },
    {
      "cell_type": "code",
      "source": [
        "df[\"Ship_Date\"] = pd.to_datetime(df[\"Ship_Date\"])"
      ],
      "metadata": {
        "id": "-EUWsnTYgkdi"
      },
      "execution_count": 7,
      "outputs": []
    },
    {
      "cell_type": "code",
      "source": [
        "df = df.sort_values(\"Order_Date\")"
      ],
      "metadata": {
        "id": "hbdnsns8ggYI"
      },
      "execution_count": 8,
      "outputs": []
    },
    {
      "cell_type": "code",
      "source": [
        "df[\"Day\"] = df['Order_Date'].map(lambda x: x.day)\n",
        "df[\"Month\"] = df['Order_Date'].map(lambda x: x.month)\n",
        "df[\"Year\"] = df['Order_Date'].map(lambda x: x.year)"
      ],
      "metadata": {
        "id": "O-MbIAbFqM5_"
      },
      "execution_count": 9,
      "outputs": []
    },
    {
      "cell_type": "code",
      "source": [
        "lbl = preprocessing.LabelEncoder()\n",
        "df['Region'] = lbl.fit_transform(df['Region'].astype(str))\n",
        "df['Product_ID'] = lbl.fit_transform(df['Product_ID'].astype(str))\n",
        "df['Ship_Mode'] = lbl.fit_transform(df['Ship_Mode'].astype(str))\n",
        "df['Customer_ID'] = lbl.fit_transform(df['Customer_ID'].astype(str))\n",
        "df['Segment'] = lbl.fit_transform(df['Segment'].astype(str))\n",
        "df['Country'] = lbl.fit_transform(df['Country'].astype(str))\n",
        "df['City'] = lbl.fit_transform(df['City'].astype(str))\n",
        "df['State'] = lbl.fit_transform(df['State'].astype(str))"
      ],
      "metadata": {
        "id": "OFFPGUlb2h3Z"
      },
      "execution_count": 10,
      "outputs": []
    },
    {
      "cell_type": "code",
      "source": [
        "def head_split(dataset, percentage):\n",
        "  return dataset.head(int(len(dataset)*percentage))"
      ],
      "metadata": {
        "id": "GluIdbvUhByX"
      },
      "execution_count": 11,
      "outputs": []
    },
    {
      "cell_type": "code",
      "source": [
        "def tail_split(dataset, percentage):\n",
        "  return dataset.tail(int(len(dataset)*percentage))"
      ],
      "metadata": {
        "id": "tyES6pdniq_N"
      },
      "execution_count": 12,
      "outputs": []
    },
    {
      "cell_type": "code",
      "source": [
        "df_train = head_split(df, .8)"
      ],
      "metadata": {
        "id": "UZuYf7Mwi3TN"
      },
      "execution_count": 13,
      "outputs": []
    },
    {
      "cell_type": "code",
      "source": [
        "df_test = tail_split(df, .2)"
      ],
      "metadata": {
        "id": "Mw2MQuRFi8e7"
      },
      "execution_count": 14,
      "outputs": []
    },
    {
      "cell_type": "code",
      "source": [
        "def create_features(df, label=None):\n",
        "    df['Order_Date'] = df.index\n",
        "    df['Month'] = df.Month\n",
        "    df['Day'] = df.Day\n",
        "    df['Year'] = df.Year\n",
        "    df['Product_ID'] = df.Product_ID\n",
        "    df['Region'] = df.Region\n",
        "    df['Ship_Mode'] = df.Ship_Mode\n",
        "    df['Segment'] = df.Segment\n",
        "    df['Country'] = df.Country\n",
        "    df['City'] = df.City\n",
        "    df['State'] = df.State\n",
        "\n",
        "    X = df[['Day','Month','Year','Product_ID','Region','Ship_Mode','Segment','Country','State']]\n",
        "    if label:\n",
        "        y = df[label]\n",
        "        return X, y\n",
        "    return X"
      ],
      "metadata": {
        "id": "ibj4Jd3tjKG7"
      },
      "execution_count": 45,
      "outputs": []
    },
    {
      "cell_type": "code",
      "source": [
        "X_train, y_train = create_features(df_train, label='Sales')\n",
        "X_test, y_test = create_features(df_test, label='Sales')\n",
        "X_train"
      ],
      "metadata": {
        "colab": {
          "base_uri": "https://localhost:8080/",
          "height": 1000
        },
        "id": "38LRNRHelm11",
        "outputId": "de74bfb4-f0f0-42f4-b070-96a6444a6736"
      },
      "execution_count": 46,
      "outputs": [
        {
          "output_type": "stream",
          "name": "stderr",
          "text": [
            "/usr/local/lib/python3.7/dist-packages/ipykernel_launcher.py:2: SettingWithCopyWarning: \n",
            "A value is trying to be set on a copy of a slice from a DataFrame.\n",
            "Try using .loc[row_indexer,col_indexer] = value instead\n",
            "\n",
            "See the caveats in the documentation: https://pandas.pydata.org/pandas-docs/stable/user_guide/indexing.html#returning-a-view-versus-a-copy\n",
            "  \n",
            "/usr/local/lib/python3.7/dist-packages/ipykernel_launcher.py:3: SettingWithCopyWarning: \n",
            "A value is trying to be set on a copy of a slice from a DataFrame.\n",
            "Try using .loc[row_indexer,col_indexer] = value instead\n",
            "\n",
            "See the caveats in the documentation: https://pandas.pydata.org/pandas-docs/stable/user_guide/indexing.html#returning-a-view-versus-a-copy\n",
            "  This is separate from the ipykernel package so we can avoid doing imports until\n",
            "/usr/local/lib/python3.7/dist-packages/ipykernel_launcher.py:4: SettingWithCopyWarning: \n",
            "A value is trying to be set on a copy of a slice from a DataFrame.\n",
            "Try using .loc[row_indexer,col_indexer] = value instead\n",
            "\n",
            "See the caveats in the documentation: https://pandas.pydata.org/pandas-docs/stable/user_guide/indexing.html#returning-a-view-versus-a-copy\n",
            "  after removing the cwd from sys.path.\n",
            "/usr/local/lib/python3.7/dist-packages/ipykernel_launcher.py:5: SettingWithCopyWarning: \n",
            "A value is trying to be set on a copy of a slice from a DataFrame.\n",
            "Try using .loc[row_indexer,col_indexer] = value instead\n",
            "\n",
            "See the caveats in the documentation: https://pandas.pydata.org/pandas-docs/stable/user_guide/indexing.html#returning-a-view-versus-a-copy\n",
            "  \"\"\"\n",
            "/usr/local/lib/python3.7/dist-packages/ipykernel_launcher.py:6: SettingWithCopyWarning: \n",
            "A value is trying to be set on a copy of a slice from a DataFrame.\n",
            "Try using .loc[row_indexer,col_indexer] = value instead\n",
            "\n",
            "See the caveats in the documentation: https://pandas.pydata.org/pandas-docs/stable/user_guide/indexing.html#returning-a-view-versus-a-copy\n",
            "  \n",
            "/usr/local/lib/python3.7/dist-packages/ipykernel_launcher.py:7: SettingWithCopyWarning: \n",
            "A value is trying to be set on a copy of a slice from a DataFrame.\n",
            "Try using .loc[row_indexer,col_indexer] = value instead\n",
            "\n",
            "See the caveats in the documentation: https://pandas.pydata.org/pandas-docs/stable/user_guide/indexing.html#returning-a-view-versus-a-copy\n",
            "  import sys\n",
            "/usr/local/lib/python3.7/dist-packages/ipykernel_launcher.py:8: SettingWithCopyWarning: \n",
            "A value is trying to be set on a copy of a slice from a DataFrame.\n",
            "Try using .loc[row_indexer,col_indexer] = value instead\n",
            "\n",
            "See the caveats in the documentation: https://pandas.pydata.org/pandas-docs/stable/user_guide/indexing.html#returning-a-view-versus-a-copy\n",
            "  \n",
            "/usr/local/lib/python3.7/dist-packages/ipykernel_launcher.py:9: SettingWithCopyWarning: \n",
            "A value is trying to be set on a copy of a slice from a DataFrame.\n",
            "Try using .loc[row_indexer,col_indexer] = value instead\n",
            "\n",
            "See the caveats in the documentation: https://pandas.pydata.org/pandas-docs/stable/user_guide/indexing.html#returning-a-view-versus-a-copy\n",
            "  if __name__ == '__main__':\n",
            "/usr/local/lib/python3.7/dist-packages/ipykernel_launcher.py:10: SettingWithCopyWarning: \n",
            "A value is trying to be set on a copy of a slice from a DataFrame.\n",
            "Try using .loc[row_indexer,col_indexer] = value instead\n",
            "\n",
            "See the caveats in the documentation: https://pandas.pydata.org/pandas-docs/stable/user_guide/indexing.html#returning-a-view-versus-a-copy\n",
            "  # Remove the CWD from sys.path while we load stuff.\n",
            "/usr/local/lib/python3.7/dist-packages/ipykernel_launcher.py:11: SettingWithCopyWarning: \n",
            "A value is trying to be set on a copy of a slice from a DataFrame.\n",
            "Try using .loc[row_indexer,col_indexer] = value instead\n",
            "\n",
            "See the caveats in the documentation: https://pandas.pydata.org/pandas-docs/stable/user_guide/indexing.html#returning-a-view-versus-a-copy\n",
            "  # This is added back by InteractiveShellApp.init_path()\n",
            "/usr/local/lib/python3.7/dist-packages/ipykernel_launcher.py:12: SettingWithCopyWarning: \n",
            "A value is trying to be set on a copy of a slice from a DataFrame.\n",
            "Try using .loc[row_indexer,col_indexer] = value instead\n",
            "\n",
            "See the caveats in the documentation: https://pandas.pydata.org/pandas-docs/stable/user_guide/indexing.html#returning-a-view-versus-a-copy\n",
            "  if sys.path[0] == '':\n"
          ]
        },
        {
          "output_type": "execute_result",
          "data": {
            "text/plain": [
              "      Day  Month  Year  Product_ID  Region  Ship_Mode  Segment  Country  State\n",
              "7980    3      1  2014        1026       0          3        0        0     41\n",
              "739     4      1  2014         987       0          3        2        0     11\n",
              "740     4      1  2014        1378       0          3        2        0     11\n",
              "741     4      1  2014         804       0          3        2        0     11\n",
              "1759    5      1  2014         582       1          3        0        0     36\n",
              "...   ...    ...   ...         ...     ...        ...      ...      ...    ...\n",
              "2439   17      7  2017         231       2          3        0        0      8\n",
              "5650   17      7  2017        1381       3          2        1        0      3\n",
              "5651   17      7  2017          22       3          2        1        0      3\n",
              "4527   17      7  2017         310       1          3        2        0     30\n",
              "3917   18      7  2017         770       3          3        0        0      1\n",
              "\n",
              "[7995 rows x 9 columns]"
            ],
            "text/html": [
              "\n",
              "  <div id=\"df-4799a03f-6096-4735-93e4-c0add9b0dfdc\">\n",
              "    <div class=\"colab-df-container\">\n",
              "      <div>\n",
              "<style scoped>\n",
              "    .dataframe tbody tr th:only-of-type {\n",
              "        vertical-align: middle;\n",
              "    }\n",
              "\n",
              "    .dataframe tbody tr th {\n",
              "        vertical-align: top;\n",
              "    }\n",
              "\n",
              "    .dataframe thead th {\n",
              "        text-align: right;\n",
              "    }\n",
              "</style>\n",
              "<table border=\"1\" class=\"dataframe\">\n",
              "  <thead>\n",
              "    <tr style=\"text-align: right;\">\n",
              "      <th></th>\n",
              "      <th>Day</th>\n",
              "      <th>Month</th>\n",
              "      <th>Year</th>\n",
              "      <th>Product_ID</th>\n",
              "      <th>Region</th>\n",
              "      <th>Ship_Mode</th>\n",
              "      <th>Segment</th>\n",
              "      <th>Country</th>\n",
              "      <th>State</th>\n",
              "    </tr>\n",
              "  </thead>\n",
              "  <tbody>\n",
              "    <tr>\n",
              "      <th>7980</th>\n",
              "      <td>3</td>\n",
              "      <td>1</td>\n",
              "      <td>2014</td>\n",
              "      <td>1026</td>\n",
              "      <td>0</td>\n",
              "      <td>3</td>\n",
              "      <td>0</td>\n",
              "      <td>0</td>\n",
              "      <td>41</td>\n",
              "    </tr>\n",
              "    <tr>\n",
              "      <th>739</th>\n",
              "      <td>4</td>\n",
              "      <td>1</td>\n",
              "      <td>2014</td>\n",
              "      <td>987</td>\n",
              "      <td>0</td>\n",
              "      <td>3</td>\n",
              "      <td>2</td>\n",
              "      <td>0</td>\n",
              "      <td>11</td>\n",
              "    </tr>\n",
              "    <tr>\n",
              "      <th>740</th>\n",
              "      <td>4</td>\n",
              "      <td>1</td>\n",
              "      <td>2014</td>\n",
              "      <td>1378</td>\n",
              "      <td>0</td>\n",
              "      <td>3</td>\n",
              "      <td>2</td>\n",
              "      <td>0</td>\n",
              "      <td>11</td>\n",
              "    </tr>\n",
              "    <tr>\n",
              "      <th>741</th>\n",
              "      <td>4</td>\n",
              "      <td>1</td>\n",
              "      <td>2014</td>\n",
              "      <td>804</td>\n",
              "      <td>0</td>\n",
              "      <td>3</td>\n",
              "      <td>2</td>\n",
              "      <td>0</td>\n",
              "      <td>11</td>\n",
              "    </tr>\n",
              "    <tr>\n",
              "      <th>1759</th>\n",
              "      <td>5</td>\n",
              "      <td>1</td>\n",
              "      <td>2014</td>\n",
              "      <td>582</td>\n",
              "      <td>1</td>\n",
              "      <td>3</td>\n",
              "      <td>0</td>\n",
              "      <td>0</td>\n",
              "      <td>36</td>\n",
              "    </tr>\n",
              "    <tr>\n",
              "      <th>...</th>\n",
              "      <td>...</td>\n",
              "      <td>...</td>\n",
              "      <td>...</td>\n",
              "      <td>...</td>\n",
              "      <td>...</td>\n",
              "      <td>...</td>\n",
              "      <td>...</td>\n",
              "      <td>...</td>\n",
              "      <td>...</td>\n",
              "    </tr>\n",
              "    <tr>\n",
              "      <th>2439</th>\n",
              "      <td>17</td>\n",
              "      <td>7</td>\n",
              "      <td>2017</td>\n",
              "      <td>231</td>\n",
              "      <td>2</td>\n",
              "      <td>3</td>\n",
              "      <td>0</td>\n",
              "      <td>0</td>\n",
              "      <td>8</td>\n",
              "    </tr>\n",
              "    <tr>\n",
              "      <th>5650</th>\n",
              "      <td>17</td>\n",
              "      <td>7</td>\n",
              "      <td>2017</td>\n",
              "      <td>1381</td>\n",
              "      <td>3</td>\n",
              "      <td>2</td>\n",
              "      <td>1</td>\n",
              "      <td>0</td>\n",
              "      <td>3</td>\n",
              "    </tr>\n",
              "    <tr>\n",
              "      <th>5651</th>\n",
              "      <td>17</td>\n",
              "      <td>7</td>\n",
              "      <td>2017</td>\n",
              "      <td>22</td>\n",
              "      <td>3</td>\n",
              "      <td>2</td>\n",
              "      <td>1</td>\n",
              "      <td>0</td>\n",
              "      <td>3</td>\n",
              "    </tr>\n",
              "    <tr>\n",
              "      <th>4527</th>\n",
              "      <td>17</td>\n",
              "      <td>7</td>\n",
              "      <td>2017</td>\n",
              "      <td>310</td>\n",
              "      <td>1</td>\n",
              "      <td>3</td>\n",
              "      <td>2</td>\n",
              "      <td>0</td>\n",
              "      <td>30</td>\n",
              "    </tr>\n",
              "    <tr>\n",
              "      <th>3917</th>\n",
              "      <td>18</td>\n",
              "      <td>7</td>\n",
              "      <td>2017</td>\n",
              "      <td>770</td>\n",
              "      <td>3</td>\n",
              "      <td>3</td>\n",
              "      <td>0</td>\n",
              "      <td>0</td>\n",
              "      <td>1</td>\n",
              "    </tr>\n",
              "  </tbody>\n",
              "</table>\n",
              "<p>7995 rows × 9 columns</p>\n",
              "</div>\n",
              "      <button class=\"colab-df-convert\" onclick=\"convertToInteractive('df-4799a03f-6096-4735-93e4-c0add9b0dfdc')\"\n",
              "              title=\"Convert this dataframe to an interactive table.\"\n",
              "              style=\"display:none;\">\n",
              "        \n",
              "  <svg xmlns=\"http://www.w3.org/2000/svg\" height=\"24px\"viewBox=\"0 0 24 24\"\n",
              "       width=\"24px\">\n",
              "    <path d=\"M0 0h24v24H0V0z\" fill=\"none\"/>\n",
              "    <path d=\"M18.56 5.44l.94 2.06.94-2.06 2.06-.94-2.06-.94-.94-2.06-.94 2.06-2.06.94zm-11 1L8.5 8.5l.94-2.06 2.06-.94-2.06-.94L8.5 2.5l-.94 2.06-2.06.94zm10 10l.94 2.06.94-2.06 2.06-.94-2.06-.94-.94-2.06-.94 2.06-2.06.94z\"/><path d=\"M17.41 7.96l-1.37-1.37c-.4-.4-.92-.59-1.43-.59-.52 0-1.04.2-1.43.59L10.3 9.45l-7.72 7.72c-.78.78-.78 2.05 0 2.83L4 21.41c.39.39.9.59 1.41.59.51 0 1.02-.2 1.41-.59l7.78-7.78 2.81-2.81c.8-.78.8-2.07 0-2.86zM5.41 20L4 18.59l7.72-7.72 1.47 1.35L5.41 20z\"/>\n",
              "  </svg>\n",
              "      </button>\n",
              "      \n",
              "  <style>\n",
              "    .colab-df-container {\n",
              "      display:flex;\n",
              "      flex-wrap:wrap;\n",
              "      gap: 12px;\n",
              "    }\n",
              "\n",
              "    .colab-df-convert {\n",
              "      background-color: #E8F0FE;\n",
              "      border: none;\n",
              "      border-radius: 50%;\n",
              "      cursor: pointer;\n",
              "      display: none;\n",
              "      fill: #1967D2;\n",
              "      height: 32px;\n",
              "      padding: 0 0 0 0;\n",
              "      width: 32px;\n",
              "    }\n",
              "\n",
              "    .colab-df-convert:hover {\n",
              "      background-color: #E2EBFA;\n",
              "      box-shadow: 0px 1px 2px rgba(60, 64, 67, 0.3), 0px 1px 3px 1px rgba(60, 64, 67, 0.15);\n",
              "      fill: #174EA6;\n",
              "    }\n",
              "\n",
              "    [theme=dark] .colab-df-convert {\n",
              "      background-color: #3B4455;\n",
              "      fill: #D2E3FC;\n",
              "    }\n",
              "\n",
              "    [theme=dark] .colab-df-convert:hover {\n",
              "      background-color: #434B5C;\n",
              "      box-shadow: 0px 1px 3px 1px rgba(0, 0, 0, 0.15);\n",
              "      filter: drop-shadow(0px 1px 2px rgba(0, 0, 0, 0.3));\n",
              "      fill: #FFFFFF;\n",
              "    }\n",
              "  </style>\n",
              "\n",
              "      <script>\n",
              "        const buttonEl =\n",
              "          document.querySelector('#df-4799a03f-6096-4735-93e4-c0add9b0dfdc button.colab-df-convert');\n",
              "        buttonEl.style.display =\n",
              "          google.colab.kernel.accessAllowed ? 'block' : 'none';\n",
              "\n",
              "        async function convertToInteractive(key) {\n",
              "          const element = document.querySelector('#df-4799a03f-6096-4735-93e4-c0add9b0dfdc');\n",
              "          const dataTable =\n",
              "            await google.colab.kernel.invokeFunction('convertToInteractive',\n",
              "                                                     [key], {});\n",
              "          if (!dataTable) return;\n",
              "\n",
              "          const docLinkHtml = 'Like what you see? Visit the ' +\n",
              "            '<a target=\"_blank\" href=https://colab.research.google.com/notebooks/data_table.ipynb>data table notebook</a>'\n",
              "            + ' to learn more about interactive tables.';\n",
              "          element.innerHTML = '';\n",
              "          dataTable['output_type'] = 'display_data';\n",
              "          await google.colab.output.renderOutput(dataTable, element);\n",
              "          const docLink = document.createElement('div');\n",
              "          docLink.innerHTML = docLinkHtml;\n",
              "          element.appendChild(docLink);\n",
              "        }\n",
              "      </script>\n",
              "    </div>\n",
              "  </div>\n",
              "  "
            ]
          },
          "metadata": {},
          "execution_count": 46
        }
      ]
    },
    {
      "cell_type": "code",
      "source": [
        "reg = xg.XGBRegressor(n_estimators=1500)"
      ],
      "metadata": {
        "id": "32Q-SA74mYnm"
      },
      "execution_count": 31,
      "outputs": []
    },
    {
      "cell_type": "code",
      "source": [
        "reg.fit(X_train, y_train,\n",
        "        eval_set=[(X_train, y_train), (X_test, y_test)],\n",
        "        early_stopping_rounds=50,\n",
        "       verbose=False)"
      ],
      "metadata": {
        "colab": {
          "base_uri": "https://localhost:8080/"
        },
        "id": "cwEFKQfKmrXI",
        "outputId": "d1be67a2-b6e0-4d59-d2b2-5f74720eb5a7"
      },
      "execution_count": 32,
      "outputs": [
        {
          "output_type": "stream",
          "name": "stdout",
          "text": [
            "[15:41:10] WARNING: /workspace/src/objective/regression_obj.cu:152: reg:linear is now deprecated in favor of reg:squarederror.\n"
          ]
        },
        {
          "output_type": "execute_result",
          "data": {
            "text/plain": [
              "XGBRegressor(n_estimators=1500)"
            ]
          },
          "metadata": {},
          "execution_count": 32
        }
      ]
    },
    {
      "cell_type": "code",
      "source": [
        "output = plot_importance(reg, height=0.9)"
      ],
      "metadata": {
        "colab": {
          "base_uri": "https://localhost:8080/",
          "height": 295
        },
        "id": "OCo_gv4Nrn7q",
        "outputId": "fba996dc-7d8b-4785-dd6c-c4df462c9cdd"
      },
      "execution_count": 33,
      "outputs": [
        {
          "output_type": "display_data",
          "data": {
            "text/plain": [
              "<Figure size 432x288 with 1 Axes>"
            ],
            "image/png": "[encoded data removed]"
          },
          "metadata": {
            "needs_background": "light"
          }
        }
      ]
    },
    {
      "cell_type": "code",
      "source": [
        "df_test['Sales_Prediction'] = reg.predict(X_test)\n",
        "results = pd.concat([df_test, df_train], sort=False)"
      ],
      "metadata": {
        "colab": {
          "base_uri": "https://localhost:8080/"
        },
        "id": "9cDOTkfQsEKX",
        "outputId": "c11f43b6-d806-4a7e-f896-8d7b74bb4b60"
      },
      "execution_count": 34,
      "outputs": [
        {
          "output_type": "stream",
          "name": "stderr",
          "text": [
            "/usr/local/lib/python3.7/dist-packages/ipykernel_launcher.py:1: SettingWithCopyWarning: \n",
            "A value is trying to be set on a copy of a slice from a DataFrame.\n",
            "Try using .loc[row_indexer,col_indexer] = value instead\n",
            "\n",
            "See the caveats in the documentation: https://pandas.pydata.org/pandas-docs/stable/user_guide/indexing.html#returning-a-view-versus-a-copy\n",
            "  \"\"\"Entry point for launching an IPython kernel.\n"
          ]
        }
      ]
    },
    {
      "cell_type": "code",
      "source": [
        "results = results.reset_index()"
      ],
      "metadata": {
        "id": "SqvHxLsZxB4G"
      },
      "execution_count": 35,
      "outputs": []
    },
    {
      "cell_type": "code",
      "source": [
        "results = results.drop(\"index\", axis =1)"
      ],
      "metadata": {
        "id": "31yKLyyD006U"
      },
      "execution_count": 36,
      "outputs": []
    },
    {
      "cell_type": "code",
      "source": [
        "results = results.drop(\"Row_ID\", axis =1)"
      ],
      "metadata": {
        "id": "h-qyWLw54x-J"
      },
      "execution_count": 37,
      "outputs": []
    },
    {
      "cell_type": "code",
      "source": [
        "results2 = results.iloc[:1998]"
      ],
      "metadata": {
        "id": "7LOBVTxS4IwT"
      },
      "execution_count": 38,
      "outputs": []
    },
    {
      "cell_type": "code",
      "source": [
        "results"
      ],
      "metadata": {
        "colab": {
          "base_uri": "https://localhost:8080/",
          "height": 1000
        },
        "id": "q0ZzZapB7MQy",
        "outputId": "4348f684-493a-4ed7-b3b0-d33a49968bcb"
      },
      "execution_count": 39,
      "outputs": [
        {
          "output_type": "execute_result",
          "data": {
            "text/plain": [
              "            Order_ID  Order_Date  Ship_Date  Ship_Mode  Customer_ID  \\\n",
              "0     US-2017-165358        7044 2017-07-23          3          720   \n",
              "1     US-2017-142573        3918 2017-07-23          3          520   \n",
              "2     US-2017-165358        7043 2017-07-23          3          720   \n",
              "3     US-2017-142573        3914 2017-07-23          3          520   \n",
              "4     US-2017-142573        3915 2017-07-23          3          520   \n",
              "...              ...         ...        ...        ...          ...   \n",
              "9988  CA-2017-139948        2439 2017-07-22          3          727   \n",
              "9989  CA-2017-142342        5650 2017-07-19          2           37   \n",
              "9990  CA-2017-142342        5651 2017-07-19          2           37   \n",
              "9991  US-2017-105046        4527 2017-07-23          3           75   \n",
              "9992  US-2017-142573        3917 2017-07-23          3          520   \n",
              "\n",
              "        Customer_Name  Segment  Country  City  State  ...  Sub-Category  \\\n",
              "0         Seth Vernon        0        0   374     36  ...      Supplies   \n",
              "1        Maris LaWare        0        0   375      1  ...        Chairs   \n",
              "2         Seth Vernon        0        0   374     36  ...        Chairs   \n",
              "3        Maris LaWare        0        0   375      1  ...        Tables   \n",
              "4        Maris LaWare        0        0   375      1  ...        Chairs   \n",
              "...               ...      ...      ...   ...    ...  ...           ...   \n",
              "9988      Shaun Weien        0        0   473      8  ...   Furnishings   \n",
              "9989  Anthony Johnson        1        0    14      3  ...       Storage   \n",
              "9990  Anthony Johnson        1        0    14      3  ...     Bookcases   \n",
              "9991      Bill Eplett        2        0   416     30  ...   Furnishings   \n",
              "9992     Maris LaWare        0        0   375      1  ...       Binders   \n",
              "\n",
              "                                           Product_Name     Sales Quantity  \\\n",
              "0                   Acme Kleencut Forged Steel Scissors     9.184        2   \n",
              "1                     High-Back Leather Manager's Chair   311.976        3   \n",
              "2            Situations Contoured Folding Chairs, 4/Set   198.744        4   \n",
              "3     Chromcraft 48\" x 96\" Racetrack Double Pedestal...   801.600        5   \n",
              "4              Global Fabric Manager's Chair, Dark Gray   161.568        2   \n",
              "...                                                 ...       ...      ...   \n",
              "9988  C-Line Magnetic Cubicle Keepers, Clear Polypro...     7.904        2   \n",
              "9989             Sterilite Show Offs Storage Containers    10.560        2   \n",
              "9990  Atlantic Metals Mobile 4-Shelf Bookcases, Cust...  1194.165        5   \n",
              "9991                              DAX Solid Wood Frames    39.080        4   \n",
              "9992                    Acco Expandable Hanging Binders     7.656        4   \n",
              "\n",
              "     Discount    Profit  Day  Month  Year  Sales_Prediction  \n",
              "0        0.20    1.1480   18      7  2017        120.165970  \n",
              "1        0.20  -42.8967   18      7  2017        511.568207  \n",
              "2        0.30  -14.1960   18      7  2017        410.317230  \n",
              "3        0.50 -448.8960   18      7  2017        640.657593  \n",
              "4        0.20   10.0980   18      7  2017        552.855835  \n",
              "...       ...       ...  ...    ...   ...               ...  \n",
              "9988     0.20    2.1736   17      7  2017               NaN  \n",
              "9989     0.00    0.0000   17      7  2017               NaN  \n",
              "9990     0.15  210.7350   17      7  2017               NaN  \n",
              "9991     0.00   14.4596   17      7  2017               NaN  \n",
              "9992     0.70   -6.1248   18      7  2017               NaN  \n",
              "\n",
              "[9993 rows x 24 columns]"
            ],
            "text/html": [
              "\n",
              "  <div id=\"df-f61d9782-1b33-4249-b520-ffe39e1c3e13\">\n",
              "    <div class=\"colab-df-container\">\n",
              "      <div>\n",
              "<style scoped>\n",
              "    .dataframe tbody tr th:only-of-type {\n",
              "        vertical-align: middle;\n",
              "    }\n",
              "\n",
              "    .dataframe tbody tr th {\n",
              "        vertical-align: top;\n",
              "    }\n",
              "\n",
              "    .dataframe thead th {\n",
              "        text-align: right;\n",
              "    }\n",
              "</style>\n",
              "<table border=\"1\" class=\"dataframe\">\n",
              "  <thead>\n",
              "    <tr style=\"text-align: right;\">\n",
              "      <th></th>\n",
              "      <th>Order_ID</th>\n",
              "      <th>Order_Date</th>\n",
              "      <th>Ship_Date</th>\n",
              "      <th>Ship_Mode</th>\n",
              "      <th>Customer_ID</th>\n",
              "      <th>Customer_Name</th>\n",
              "      <th>Segment</th>\n",
              "      <th>Country</th>\n",
              "      <th>City</th>\n",
              "      <th>State</th>\n",
              "      <th>...</th>\n",
              "      <th>Sub-Category</th>\n",
              "      <th>Product_Name</th>\n",
              "      <th>Sales</th>\n",
              "      <th>Quantity</th>\n",
              "      <th>Discount</th>\n",
              "      <th>Profit</th>\n",
              "      <th>Day</th>\n",
              "      <th>Month</th>\n",
              "      <th>Year</th>\n",
              "      <th>Sales_Prediction</th>\n",
              "    </tr>\n",
              "  </thead>\n",
              "  <tbody>\n",
              "    <tr>\n",
              "      <th>0</th>\n",
              "      <td>US-2017-165358</td>\n",
              "      <td>7044</td>\n",
              "      <td>2017-07-23</td>\n",
              "      <td>3</td>\n",
              "      <td>720</td>\n",
              "      <td>Seth Vernon</td>\n",
              "      <td>0</td>\n",
              "      <td>0</td>\n",
              "      <td>374</td>\n",
              "      <td>36</td>\n",
              "      <td>...</td>\n",
              "      <td>Supplies</td>\n",
              "      <td>Acme Kleencut Forged Steel Scissors</td>\n",
              "      <td>9.184</td>\n",
              "      <td>2</td>\n",
              "      <td>0.20</td>\n",
              "      <td>1.1480</td>\n",
              "      <td>18</td>\n",
              "      <td>7</td>\n",
              "      <td>2017</td>\n",
              "      <td>120.165970</td>\n",
              "    </tr>\n",
              "    <tr>\n",
              "      <th>1</th>\n",
              "      <td>US-2017-142573</td>\n",
              "      <td>3918</td>\n",
              "      <td>2017-07-23</td>\n",
              "      <td>3</td>\n",
              "      <td>520</td>\n",
              "      <td>Maris LaWare</td>\n",
              "      <td>0</td>\n",
              "      <td>0</td>\n",
              "      <td>375</td>\n",
              "      <td>1</td>\n",
              "      <td>...</td>\n",
              "      <td>Chairs</td>\n",
              "      <td>High-Back Leather Manager's Chair</td>\n",
              "      <td>311.976</td>\n",
              "      <td>3</td>\n",
              "      <td>0.20</td>\n",
              "      <td>-42.8967</td>\n",
              "      <td>18</td>\n",
              "      <td>7</td>\n",
              "      <td>2017</td>\n",
              "      <td>511.568207</td>\n",
              "    </tr>\n",
              "    <tr>\n",
              "      <th>2</th>\n",
              "      <td>US-2017-165358</td>\n",
              "      <td>7043</td>\n",
              "      <td>2017-07-23</td>\n",
              "      <td>3</td>\n",
              "      <td>720</td>\n",
              "      <td>Seth Vernon</td>\n",
              "      <td>0</td>\n",
              "      <td>0</td>\n",
              "      <td>374</td>\n",
              "      <td>36</td>\n",
              "      <td>...</td>\n",
              "      <td>Chairs</td>\n",
              "      <td>Situations Contoured Folding Chairs, 4/Set</td>\n",
              "      <td>198.744</td>\n",
              "      <td>4</td>\n",
              "      <td>0.30</td>\n",
              "      <td>-14.1960</td>\n",
              "      <td>18</td>\n",
              "      <td>7</td>\n",
              "      <td>2017</td>\n",
              "      <td>410.317230</td>\n",
              "    </tr>\n",
              "    <tr>\n",
              "      <th>3</th>\n",
              "      <td>US-2017-142573</td>\n",
              "      <td>3914</td>\n",
              "      <td>2017-07-23</td>\n",
              "      <td>3</td>\n",
              "      <td>520</td>\n",
              "      <td>Maris LaWare</td>\n",
              "      <td>0</td>\n",
              "      <td>0</td>\n",
              "      <td>375</td>\n",
              "      <td>1</td>\n",
              "      <td>...</td>\n",
              "      <td>Tables</td>\n",
              "      <td>Chromcraft 48\" x 96\" Racetrack Double Pedestal...</td>\n",
              "      <td>801.600</td>\n",
              "      <td>5</td>\n",
              "      <td>0.50</td>\n",
              "      <td>-448.8960</td>\n",
              "      <td>18</td>\n",
              "      <td>7</td>\n",
              "      <td>2017</td>\n",
              "      <td>640.657593</td>\n",
              "    </tr>\n",
              "    <tr>\n",
              "      <th>4</th>\n",
              "      <td>US-2017-142573</td>\n",
              "      <td>3915</td>\n",
              "      <td>2017-07-23</td>\n",
              "      <td>3</td>\n",
              "      <td>520</td>\n",
              "      <td>Maris LaWare</td>\n",
              "      <td>0</td>\n",
              "      <td>0</td>\n",
              "      <td>375</td>\n",
              "      <td>1</td>\n",
              "      <td>...</td>\n",
              "      <td>Chairs</td>\n",
              "      <td>Global Fabric Manager's Chair, Dark Gray</td>\n",
              "      <td>161.568</td>\n",
              "      <td>2</td>\n",
              "      <td>0.20</td>\n",
              "      <td>10.0980</td>\n",
              "      <td>18</td>\n",
              "      <td>7</td>\n",
              "      <td>2017</td>\n",
              "      <td>552.855835</td>\n",
              "    </tr>\n",
              "    <tr>\n",
              "      <th>...</th>\n",
              "      <td>...</td>\n",
              "      <td>...</td>\n",
              "      <td>...</td>\n",
              "      <td>...</td>\n",
              "      <td>...</td>\n",
              "      <td>...</td>\n",
              "      <td>...</td>\n",
              "      <td>...</td>\n",
              "      <td>...</td>\n",
              "      <td>...</td>\n",
              "      <td>...</td>\n",
              "      <td>...</td>\n",
              "      <td>...</td>\n",
              "      <td>...</td>\n",
              "      <td>...</td>\n",
              "      <td>...</td>\n",
              "      <td>...</td>\n",
              "      <td>...</td>\n",
              "      <td>...</td>\n",
              "      <td>...</td>\n",
              "      <td>...</td>\n",
              "    </tr>\n",
              "    <tr>\n",
              "      <th>9988</th>\n",
              "      <td>CA-2017-139948</td>\n",
              "      <td>2439</td>\n",
              "      <td>2017-07-22</td>\n",
              "      <td>3</td>\n",
              "      <td>727</td>\n",
              "      <td>Shaun Weien</td>\n",
              "      <td>0</td>\n",
              "      <td>0</td>\n",
              "      <td>473</td>\n",
              "      <td>8</td>\n",
              "      <td>...</td>\n",
              "      <td>Furnishings</td>\n",
              "      <td>C-Line Magnetic Cubicle Keepers, Clear Polypro...</td>\n",
              "      <td>7.904</td>\n",
              "      <td>2</td>\n",
              "      <td>0.20</td>\n",
              "      <td>2.1736</td>\n",
              "      <td>17</td>\n",
              "      <td>7</td>\n",
              "      <td>2017</td>\n",
              "      <td>NaN</td>\n",
              "    </tr>\n",
              "    <tr>\n",
              "      <th>9989</th>\n",
              "      <td>CA-2017-142342</td>\n",
              "      <td>5650</td>\n",
              "      <td>2017-07-19</td>\n",
              "      <td>2</td>\n",
              "      <td>37</td>\n",
              "      <td>Anthony Johnson</td>\n",
              "      <td>1</td>\n",
              "      <td>0</td>\n",
              "      <td>14</td>\n",
              "      <td>3</td>\n",
              "      <td>...</td>\n",
              "      <td>Storage</td>\n",
              "      <td>Sterilite Show Offs Storage Containers</td>\n",
              "      <td>10.560</td>\n",
              "      <td>2</td>\n",
              "      <td>0.00</td>\n",
              "      <td>0.0000</td>\n",
              "      <td>17</td>\n",
              "      <td>7</td>\n",
              "      <td>2017</td>\n",
              "      <td>NaN</td>\n",
              "    </tr>\n",
              "    <tr>\n",
              "      <th>9990</th>\n",
              "      <td>CA-2017-142342</td>\n",
              "      <td>5651</td>\n",
              "      <td>2017-07-19</td>\n",
              "      <td>2</td>\n",
              "      <td>37</td>\n",
              "      <td>Anthony Johnson</td>\n",
              "      <td>1</td>\n",
              "      <td>0</td>\n",
              "      <td>14</td>\n",
              "      <td>3</td>\n",
              "      <td>...</td>\n",
              "      <td>Bookcases</td>\n",
              "      <td>Atlantic Metals Mobile 4-Shelf Bookcases, Cust...</td>\n",
              "      <td>1194.165</td>\n",
              "      <td>5</td>\n",
              "      <td>0.15</td>\n",
              "      <td>210.7350</td>\n",
              "      <td>17</td>\n",
              "      <td>7</td>\n",
              "      <td>2017</td>\n",
              "      <td>NaN</td>\n",
              "    </tr>\n",
              "    <tr>\n",
              "      <th>9991</th>\n",
              "      <td>US-2017-105046</td>\n",
              "      <td>4527</td>\n",
              "      <td>2017-07-23</td>\n",
              "      <td>3</td>\n",
              "      <td>75</td>\n",
              "      <td>Bill Eplett</td>\n",
              "      <td>2</td>\n",
              "      <td>0</td>\n",
              "      <td>416</td>\n",
              "      <td>30</td>\n",
              "      <td>...</td>\n",
              "      <td>Furnishings</td>\n",
              "      <td>DAX Solid Wood Frames</td>\n",
              "      <td>39.080</td>\n",
              "      <td>4</td>\n",
              "      <td>0.00</td>\n",
              "      <td>14.4596</td>\n",
              "      <td>17</td>\n",
              "      <td>7</td>\n",
              "      <td>2017</td>\n",
              "      <td>NaN</td>\n",
              "    </tr>\n",
              "    <tr>\n",
              "      <th>9992</th>\n",
              "      <td>US-2017-142573</td>\n",
              "      <td>3917</td>\n",
              "      <td>2017-07-23</td>\n",
              "      <td>3</td>\n",
              "      <td>520</td>\n",
              "      <td>Maris LaWare</td>\n",
              "      <td>0</td>\n",
              "      <td>0</td>\n",
              "      <td>375</td>\n",
              "      <td>1</td>\n",
              "      <td>...</td>\n",
              "      <td>Binders</td>\n",
              "      <td>Acco Expandable Hanging Binders</td>\n",
              "      <td>7.656</td>\n",
              "      <td>4</td>\n",
              "      <td>0.70</td>\n",
              "      <td>-6.1248</td>\n",
              "      <td>18</td>\n",
              "      <td>7</td>\n",
              "      <td>2017</td>\n",
              "      <td>NaN</td>\n",
              "    </tr>\n",
              "  </tbody>\n",
              "</table>\n",
              "<p>9993 rows × 24 columns</p>\n",
              "</div>\n",
              "      <button class=\"colab-df-convert\" onclick=\"convertToInteractive('df-f61d9782-1b33-4249-b520-ffe39e1c3e13')\"\n",
              "              title=\"Convert this dataframe to an interactive table.\"\n",
              "              style=\"display:none;\">\n",
              "        \n",
              "  <svg xmlns=\"http://www.w3.org/2000/svg\" height=\"24px\"viewBox=\"0 0 24 24\"\n",
              "       width=\"24px\">\n",
              "    <path d=\"M0 0h24v24H0V0z\" fill=\"none\"/>\n",
              "    <path d=\"M18.56 5.44l.94 2.06.94-2.06 2.06-.94-2.06-.94-.94-2.06-.94 2.06-2.06.94zm-11 1L8.5 8.5l.94-2.06 2.06-.94-2.06-.94L8.5 2.5l-.94 2.06-2.06.94zm10 10l.94 2.06.94-2.06 2.06-.94-2.06-.94-.94-2.06-.94 2.06-2.06.94z\"/><path d=\"M17.41 7.96l-1.37-1.37c-.4-.4-.92-.59-1.43-.59-.52 0-1.04.2-1.43.59L10.3 9.45l-7.72 7.72c-.78.78-.78 2.05 0 2.83L4 21.41c.39.39.9.59 1.41.59.51 0 1.02-.2 1.41-.59l7.78-7.78 2.81-2.81c.8-.78.8-2.07 0-2.86zM5.41 20L4 18.59l7.72-7.72 1.47 1.35L5.41 20z\"/>\n",
              "  </svg>\n",
              "      </button>\n",
              "      \n",
              "  <style>\n",
              "    .colab-df-container {\n",
              "      display:flex;\n",
              "      flex-wrap:wrap;\n",
              "      gap: 12px;\n",
              "    }\n",
              "\n",
              "    .colab-df-convert {\n",
              "      background-color: #E8F0FE;\n",
              "      border: none;\n",
              "      border-radius: 50%;\n",
              "      cursor: pointer;\n",
              "      display: none;\n",
              "      fill: #1967D2;\n",
              "      height: 32px;\n",
              "      padding: 0 0 0 0;\n",
              "      width: 32px;\n",
              "    }\n",
              "\n",
              "    .colab-df-convert:hover {\n",
              "      background-color: #E2EBFA;\n",
              "      box-shadow: 0px 1px 2px rgba(60, 64, 67, 0.3), 0px 1px 3px 1px rgba(60, 64, 67, 0.15);\n",
              "      fill: #174EA6;\n",
              "    }\n",
              "\n",
              "    [theme=dark] .colab-df-convert {\n",
              "      background-color: #3B4455;\n",
              "      fill: #D2E3FC;\n",
              "    }\n",
              "\n",
              "    [theme=dark] .colab-df-convert:hover {\n",
              "      background-color: #434B5C;\n",
              "      box-shadow: 0px 1px 3px 1px rgba(0, 0, 0, 0.15);\n",
              "      filter: drop-shadow(0px 1px 2px rgba(0, 0, 0, 0.3));\n",
              "      fill: #FFFFFF;\n",
              "    }\n",
              "  </style>\n",
              "\n",
              "      <script>\n",
              "        const buttonEl =\n",
              "          document.querySelector('#df-f61d9782-1b33-4249-b520-ffe39e1c3e13 button.colab-df-convert');\n",
              "        buttonEl.style.display =\n",
              "          google.colab.kernel.accessAllowed ? 'block' : 'none';\n",
              "\n",
              "        async function convertToInteractive(key) {\n",
              "          const element = document.querySelector('#df-f61d9782-1b33-4249-b520-ffe39e1c3e13');\n",
              "          const dataTable =\n",
              "            await google.colab.kernel.invokeFunction('convertToInteractive',\n",
              "                                                     [key], {});\n",
              "          if (!dataTable) return;\n",
              "\n",
              "          const docLinkHtml = 'Like what you see? Visit the ' +\n",
              "            '<a target=\"_blank\" href=https://colab.research.google.com/notebooks/data_table.ipynb>data table notebook</a>'\n",
              "            + ' to learn more about interactive tables.';\n",
              "          element.innerHTML = '';\n",
              "          dataTable['output_type'] = 'display_data';\n",
              "          await google.colab.output.renderOutput(dataTable, element);\n",
              "          const docLink = document.createElement('div');\n",
              "          docLink.innerHTML = docLinkHtml;\n",
              "          element.appendChild(docLink);\n",
              "        }\n",
              "      </script>\n",
              "    </div>\n",
              "  </div>\n",
              "  "
            ]
          },
          "metadata": {},
          "execution_count": 39
        }
      ]
    },
    {
      "cell_type": "code",
      "source": [
        "mean_squared_error(df_test.Sales,results2.Sales_Prediction)"
      ],
      "metadata": {
        "colab": {
          "base_uri": "https://localhost:8080/"
        },
        "id": "g-zr1XDF3Gfw",
        "outputId": "929c1647-6de2-4a2a-dd26-e38cb5bfe7f2"
      },
      "execution_count": 40,
      "outputs": [
        {
          "output_type": "execute_result",
          "data": {
            "text/plain": [
              "160921.07901438067"
            ]
          },
          "metadata": {},
          "execution_count": 40
        }
      ]
    },
    {
      "cell_type": "code",
      "source": [
        "output = results2[['Sales','Sales_Prediction']].plot(figsize=(15, 5))"
      ],
      "metadata": {
        "colab": {
          "base_uri": "https://localhost:8080/",
          "height": 320
        },
        "id": "DdbJ9M9kufbe",
        "outputId": "e7b6bb68-cb58-4098-cdd0-f8d5eeaa81d4"
      },
      "execution_count": 41,
      "outputs": [
        {
          "output_type": "display_data",
          "data": {
            "text/plain": [
              "<Figure size 1080x360 with 1 Axes>"
            ],
            "image/png": "[encoded data removed]"
          },
          "metadata": {
            "needs_background": "light"
          }
        }
      ]
    }
  ]
}